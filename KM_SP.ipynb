{
  "cells": [
    {
      "cell_type": "code",
      "execution_count": null,
      "metadata": {
        "colab": {
          "base_uri": "https://localhost:8080/"
        },
        "id": "aSyYj_mBNgj3",
        "outputId": "beb58eb6-88a9-46ba-c9a5-f3e241fcb0eb"
      },
      "outputs": [
        {
          "output_type": "stream",
          "name": "stdout",
          "text": [
            "Looking in indexes: https://pypi.org/simple, https://us-python.pkg.dev/colab-wheels/public/simple/\n",
            "Collecting pyspark\n",
            "  Downloading pyspark-3.4.0.tar.gz (310.8 MB)\n",
            "\u001b[2K     \u001b[90m━━━━━━━━━━━━━━━━━━━━━━━━━━━━━━━━━━━━━━━\u001b[0m \u001b[32m310.8/310.8 MB\u001b[0m \u001b[31m3.9 MB/s\u001b[0m eta \u001b[36m0:00:00\u001b[0m\n",
            "\u001b[?25h  Preparing metadata (setup.py) ... \u001b[?25l\u001b[?25hdone\n",
            "Requirement already satisfied: py4j==0.10.9.7 in /usr/local/lib/python3.10/dist-packages (from pyspark) (0.10.9.7)\n",
            "Building wheels for collected packages: pyspark\n",
            "  Building wheel for pyspark (setup.py) ... \u001b[?25l\u001b[?25hdone\n",
            "  Created wheel for pyspark: filename=pyspark-3.4.0-py2.py3-none-any.whl size=311317130 sha256=2c6dd9ae52d9a974cb5203cf592d52f8c5e531c855b1daf5451e6011907edeaa\n",
            "  Stored in directory: /root/.cache/pip/wheels/7b/1b/4b/3363a1d04368e7ff0d408e57ff57966fcdf00583774e761327\n",
            "Successfully built pyspark\n",
            "Installing collected packages: pyspark\n",
            "Successfully installed pyspark-3.4.0\n"
          ]
        }
      ],
      "source": [
        "!pip install pyspark"
      ]
    },
    {
      "cell_type": "code",
      "execution_count": null,
      "metadata": {
        "id": "X62EI3BNOxJQ"
      },
      "outputs": [],
      "source": [
        "!apt-get install openjdk-8-jdk-headless -qq > /dev/null\n",
        "!wget -q \"https://archive.apache.org/dist/spark/spark-3.1.2/spark-3.1.2-bin-hadoop3.2.tgz\"\n",
        "\n",
        "!tar xf \"spark-3.1.2-bin-hadoop3.2.tgz\"\n",
        "!pip install -q findspark\n",
        "import os\n",
        "os.environ[\"JAVA_HOME\"] = \"/usr/lib/jvm/java-8-openjdk-amd64\"\n",
        "os.environ[\"SPARK_HOME\"] = \"/content/spark-3.1.2-bin-hadoop3.2\"\n",
        "\n",
        "import findspark\n",
        "findspark.init()"
      ]
    },
    {
      "cell_type": "code",
      "execution_count": null,
      "metadata": {
        "id": "QoMmuvBlD_B3"
      },
      "outputs": [],
      "source": [
        "import pandas as pd\n",
        "from pyspark.conf import SparkConf\n",
        "from pyspark.context import SparkContext\n",
        "import numpy as np\n",
        "from sklearn.preprocessing import MinMaxScaler\n",
        "from sklearn.preprocessing import StandardScaler\n",
        "import matplotlib.pyplot as plt\n",
        "from sklearn.preprocessing import LabelEncoder"
      ]
    },
    {
      "cell_type": "code",
      "execution_count": null,
      "metadata": {
        "id": "ZbDG181SENmi"
      },
      "outputs": [],
      "source": [
        "df = pd.read_csv(\"/content/drive/MyDrive/Customer_Segmentation_VN.csv\")"
      ]
    },
    {
      "cell_type": "code",
      "execution_count": null,
      "metadata": {
        "colab": {
          "base_uri": "https://localhost:8080/",
          "height": 424
        },
        "id": "YIDbsSDWmwd3",
        "outputId": "daf72f80-be1f-4e0d-cbe0-bf5b59c155d5"
      },
      "outputs": [
        {
          "output_type": "execute_result",
          "data": {
            "text/plain": [
              "      first_name    last_name title       gender                        email  \\\n",
              "0          Gordy  Itzcovichch    Dr         Male  gitzcovichch0@aboutads.info   \n",
              "1        Pauline       Pendre    Mr       Female        ppendre1@vkontakte.ru   \n",
              "2        Diahann       Overel    Ms       Female         doverel2@typepad.com   \n",
              "3        Diandra        Clamp   Rev       Female              dclamp3@nyu.edu   \n",
              "4           Toma         Odom    Dr       Female        todom4@washington.edu   \n",
              "...          ...          ...   ...          ...                          ...   \n",
              "99995      Vanya      Sharply    Dr      Agender     vsharplyrn@wordpress.org   \n",
              "99996   Marcello      Grestye   Mrs         Male           mgrestyero@aol.com   \n",
              "99997      Melli        Gerge    Mr       Female       mgergerp@bloomberg.com   \n",
              "99998    Andreas      Cramond    Mr         Male     acramondrq@blinklist.com   \n",
              "99999      Gaven       Petran    Dr  Genderfluid        gpetranrr@typepad.com   \n",
              "\n",
              "                     city  country   latitude  longtitude         phone  \\\n",
              "0             Xuân Trường  Vietnam  20.299331  106.358153  850-367-2142   \n",
              "1               Plei Kần  Vietnam  14.704332  107.698488  955-464-4079   \n",
              "2              Tuy Phước  Vietnam  13.856503  109.164221  919-377-9767   \n",
              "3                Tân Hiệp  Vietnam  10.115436  105.283440  260-447-0429   \n",
              "4                Qui Nhon  Vietnam  13.782967  109.219663  552-813-6548   \n",
              "...                   ...      ...        ...         ...           ...   \n",
              "99995              K Bang  Vietnam  14.334806  108.475085  640-329-7953   \n",
              "99996  Thành Phố Lạng Sơn  Vietnam  21.853708  106.761519  881-240-9878   \n",
              "99997     Thị Trấn Mỹ Lộc  Vietnam  20.441631  106.108110  991-671-5884   \n",
              "99998            Ngô Đồng  Vietnam  21.339282  106.232725  663-598-0348   \n",
              "99999  Thị Trấn Thanh Lưu  Vietnam  13.380737  109.106882  791-883-2975   \n",
              "\n",
              "       street_number street_sufix  company_name            department  \\\n",
              "0              83763         Park  Shuffledrive                 Legal   \n",
              "1                  7        Plaza         Kimia              Training   \n",
              "2                  1       Center        Wikivu            Accounting   \n",
              "3                621         Park   Shufflester              Training   \n",
              "4                962        Point     Riffpedia       Human Resources   \n",
              "...              ...          ...           ...                   ...   \n",
              "99995              7       Avenue     Skynoodle       Human Resources   \n",
              "99996              1       Center        Rhybox                 Sales   \n",
              "99997             37       Center      Devpoint  Business Development   \n",
              "99998          22734        Court        Demizz       Human Resources   \n",
              "99999             64        Place       Demivee               Support   \n",
              "\n",
              "                           job_title       ip_address purchase_amount  \n",
              "0                 Nurse Practicioner    74.222.137.22           $7.45  \n",
              "1                 Speech Pathologist   173.23.188.152           $2.92  \n",
              "2                     Civil Engineer    2.236.114.210           $0.38  \n",
              "3                            Actuary     81.57.54.113           $7.05  \n",
              "4                       Accountant I    250.63.16.182           $9.15  \n",
              "...                              ...              ...             ...  \n",
              "99995  Community Outreach Specialist  229.101.100.115           $0.89  \n",
              "99996     Desktop Support Technician   100.255.99.120           $9.57  \n",
              "99997              Account Executive  112.207.140.233           $6.30  \n",
              "99998                        Teacher    114.29.38.128           $5.97  \n",
              "99999              Chemical Engineer    108.117.53.87           $2.81  \n",
              "\n",
              "[100000 rows x 17 columns]"
            ],
            "text/html": [
              "\n",
              "  <div id=\"df-8bfde930-44ae-4eca-af68-ce426726e80d\">\n",
              "    <div class=\"colab-df-container\">\n",
              "      <div>\n",
              "<style scoped>\n",
              "    .dataframe tbody tr th:only-of-type {\n",
              "        vertical-align: middle;\n",
              "    }\n",
              "\n",
              "    .dataframe tbody tr th {\n",
              "        vertical-align: top;\n",
              "    }\n",
              "\n",
              "    .dataframe thead th {\n",
              "        text-align: right;\n",
              "    }\n",
              "</style>\n",
              "<table border=\"1\" class=\"dataframe\">\n",
              "  <thead>\n",
              "    <tr style=\"text-align: right;\">\n",
              "      <th></th>\n",
              "      <th>first_name</th>\n",
              "      <th>last_name</th>\n",
              "      <th>title</th>\n",
              "      <th>gender</th>\n",
              "      <th>email</th>\n",
              "      <th>city</th>\n",
              "      <th>country</th>\n",
              "      <th>latitude</th>\n",
              "      <th>longtitude</th>\n",
              "      <th>phone</th>\n",
              "      <th>street_number</th>\n",
              "      <th>street_sufix</th>\n",
              "      <th>company_name</th>\n",
              "      <th>department</th>\n",
              "      <th>job_title</th>\n",
              "      <th>ip_address</th>\n",
              "      <th>purchase_amount</th>\n",
              "    </tr>\n",
              "  </thead>\n",
              "  <tbody>\n",
              "    <tr>\n",
              "      <th>0</th>\n",
              "      <td>Gordy</td>\n",
              "      <td>Itzcovichch</td>\n",
              "      <td>Dr</td>\n",
              "      <td>Male</td>\n",
              "      <td>gitzcovichch0@aboutads.info</td>\n",
              "      <td>Xuân Trường</td>\n",
              "      <td>Vietnam</td>\n",
              "      <td>20.299331</td>\n",
              "      <td>106.358153</td>\n",
              "      <td>850-367-2142</td>\n",
              "      <td>83763</td>\n",
              "      <td>Park</td>\n",
              "      <td>Shuffledrive</td>\n",
              "      <td>Legal</td>\n",
              "      <td>Nurse Practicioner</td>\n",
              "      <td>74.222.137.22</td>\n",
              "      <td>$7.45</td>\n",
              "    </tr>\n",
              "    <tr>\n",
              "      <th>1</th>\n",
              "      <td>Pauline</td>\n",
              "      <td>Pendre</td>\n",
              "      <td>Mr</td>\n",
              "      <td>Female</td>\n",
              "      <td>ppendre1@vkontakte.ru</td>\n",
              "      <td>Plei Kần</td>\n",
              "      <td>Vietnam</td>\n",
              "      <td>14.704332</td>\n",
              "      <td>107.698488</td>\n",
              "      <td>955-464-4079</td>\n",
              "      <td>7</td>\n",
              "      <td>Plaza</td>\n",
              "      <td>Kimia</td>\n",
              "      <td>Training</td>\n",
              "      <td>Speech Pathologist</td>\n",
              "      <td>173.23.188.152</td>\n",
              "      <td>$2.92</td>\n",
              "    </tr>\n",
              "    <tr>\n",
              "      <th>2</th>\n",
              "      <td>Diahann</td>\n",
              "      <td>Overel</td>\n",
              "      <td>Ms</td>\n",
              "      <td>Female</td>\n",
              "      <td>doverel2@typepad.com</td>\n",
              "      <td>Tuy Phước</td>\n",
              "      <td>Vietnam</td>\n",
              "      <td>13.856503</td>\n",
              "      <td>109.164221</td>\n",
              "      <td>919-377-9767</td>\n",
              "      <td>1</td>\n",
              "      <td>Center</td>\n",
              "      <td>Wikivu</td>\n",
              "      <td>Accounting</td>\n",
              "      <td>Civil Engineer</td>\n",
              "      <td>2.236.114.210</td>\n",
              "      <td>$0.38</td>\n",
              "    </tr>\n",
              "    <tr>\n",
              "      <th>3</th>\n",
              "      <td>Diandra</td>\n",
              "      <td>Clamp</td>\n",
              "      <td>Rev</td>\n",
              "      <td>Female</td>\n",
              "      <td>dclamp3@nyu.edu</td>\n",
              "      <td>Tân Hiệp</td>\n",
              "      <td>Vietnam</td>\n",
              "      <td>10.115436</td>\n",
              "      <td>105.283440</td>\n",
              "      <td>260-447-0429</td>\n",
              "      <td>621</td>\n",
              "      <td>Park</td>\n",
              "      <td>Shufflester</td>\n",
              "      <td>Training</td>\n",
              "      <td>Actuary</td>\n",
              "      <td>81.57.54.113</td>\n",
              "      <td>$7.05</td>\n",
              "    </tr>\n",
              "    <tr>\n",
              "      <th>4</th>\n",
              "      <td>Toma</td>\n",
              "      <td>Odom</td>\n",
              "      <td>Dr</td>\n",
              "      <td>Female</td>\n",
              "      <td>todom4@washington.edu</td>\n",
              "      <td>Qui Nhon</td>\n",
              "      <td>Vietnam</td>\n",
              "      <td>13.782967</td>\n",
              "      <td>109.219663</td>\n",
              "      <td>552-813-6548</td>\n",
              "      <td>962</td>\n",
              "      <td>Point</td>\n",
              "      <td>Riffpedia</td>\n",
              "      <td>Human Resources</td>\n",
              "      <td>Accountant I</td>\n",
              "      <td>250.63.16.182</td>\n",
              "      <td>$9.15</td>\n",
              "    </tr>\n",
              "    <tr>\n",
              "      <th>...</th>\n",
              "      <td>...</td>\n",
              "      <td>...</td>\n",
              "      <td>...</td>\n",
              "      <td>...</td>\n",
              "      <td>...</td>\n",
              "      <td>...</td>\n",
              "      <td>...</td>\n",
              "      <td>...</td>\n",
              "      <td>...</td>\n",
              "      <td>...</td>\n",
              "      <td>...</td>\n",
              "      <td>...</td>\n",
              "      <td>...</td>\n",
              "      <td>...</td>\n",
              "      <td>...</td>\n",
              "      <td>...</td>\n",
              "      <td>...</td>\n",
              "    </tr>\n",
              "    <tr>\n",
              "      <th>99995</th>\n",
              "      <td>Vanya</td>\n",
              "      <td>Sharply</td>\n",
              "      <td>Dr</td>\n",
              "      <td>Agender</td>\n",
              "      <td>vsharplyrn@wordpress.org</td>\n",
              "      <td>K Bang</td>\n",
              "      <td>Vietnam</td>\n",
              "      <td>14.334806</td>\n",
              "      <td>108.475085</td>\n",
              "      <td>640-329-7953</td>\n",
              "      <td>7</td>\n",
              "      <td>Avenue</td>\n",
              "      <td>Skynoodle</td>\n",
              "      <td>Human Resources</td>\n",
              "      <td>Community Outreach Specialist</td>\n",
              "      <td>229.101.100.115</td>\n",
              "      <td>$0.89</td>\n",
              "    </tr>\n",
              "    <tr>\n",
              "      <th>99996</th>\n",
              "      <td>Marcello</td>\n",
              "      <td>Grestye</td>\n",
              "      <td>Mrs</td>\n",
              "      <td>Male</td>\n",
              "      <td>mgrestyero@aol.com</td>\n",
              "      <td>Thành Phố Lạng Sơn</td>\n",
              "      <td>Vietnam</td>\n",
              "      <td>21.853708</td>\n",
              "      <td>106.761519</td>\n",
              "      <td>881-240-9878</td>\n",
              "      <td>1</td>\n",
              "      <td>Center</td>\n",
              "      <td>Rhybox</td>\n",
              "      <td>Sales</td>\n",
              "      <td>Desktop Support Technician</td>\n",
              "      <td>100.255.99.120</td>\n",
              "      <td>$9.57</td>\n",
              "    </tr>\n",
              "    <tr>\n",
              "      <th>99997</th>\n",
              "      <td>Melli</td>\n",
              "      <td>Gerge</td>\n",
              "      <td>Mr</td>\n",
              "      <td>Female</td>\n",
              "      <td>mgergerp@bloomberg.com</td>\n",
              "      <td>Thị Trấn Mỹ Lộc</td>\n",
              "      <td>Vietnam</td>\n",
              "      <td>20.441631</td>\n",
              "      <td>106.108110</td>\n",
              "      <td>991-671-5884</td>\n",
              "      <td>37</td>\n",
              "      <td>Center</td>\n",
              "      <td>Devpoint</td>\n",
              "      <td>Business Development</td>\n",
              "      <td>Account Executive</td>\n",
              "      <td>112.207.140.233</td>\n",
              "      <td>$6.30</td>\n",
              "    </tr>\n",
              "    <tr>\n",
              "      <th>99998</th>\n",
              "      <td>Andreas</td>\n",
              "      <td>Cramond</td>\n",
              "      <td>Mr</td>\n",
              "      <td>Male</td>\n",
              "      <td>acramondrq@blinklist.com</td>\n",
              "      <td>Ngô Đồng</td>\n",
              "      <td>Vietnam</td>\n",
              "      <td>21.339282</td>\n",
              "      <td>106.232725</td>\n",
              "      <td>663-598-0348</td>\n",
              "      <td>22734</td>\n",
              "      <td>Court</td>\n",
              "      <td>Demizz</td>\n",
              "      <td>Human Resources</td>\n",
              "      <td>Teacher</td>\n",
              "      <td>114.29.38.128</td>\n",
              "      <td>$5.97</td>\n",
              "    </tr>\n",
              "    <tr>\n",
              "      <th>99999</th>\n",
              "      <td>Gaven</td>\n",
              "      <td>Petran</td>\n",
              "      <td>Dr</td>\n",
              "      <td>Genderfluid</td>\n",
              "      <td>gpetranrr@typepad.com</td>\n",
              "      <td>Thị Trấn Thanh Lưu</td>\n",
              "      <td>Vietnam</td>\n",
              "      <td>13.380737</td>\n",
              "      <td>109.106882</td>\n",
              "      <td>791-883-2975</td>\n",
              "      <td>64</td>\n",
              "      <td>Place</td>\n",
              "      <td>Demivee</td>\n",
              "      <td>Support</td>\n",
              "      <td>Chemical Engineer</td>\n",
              "      <td>108.117.53.87</td>\n",
              "      <td>$2.81</td>\n",
              "    </tr>\n",
              "  </tbody>\n",
              "</table>\n",
              "<p>100000 rows × 17 columns</p>\n",
              "</div>\n",
              "      <button class=\"colab-df-convert\" onclick=\"convertToInteractive('df-8bfde930-44ae-4eca-af68-ce426726e80d')\"\n",
              "              title=\"Convert this dataframe to an interactive table.\"\n",
              "              style=\"display:none;\">\n",
              "        \n",
              "  <svg xmlns=\"http://www.w3.org/2000/svg\" height=\"24px\"viewBox=\"0 0 24 24\"\n",
              "       width=\"24px\">\n",
              "    <path d=\"M0 0h24v24H0V0z\" fill=\"none\"/>\n",
              "    <path d=\"M18.56 5.44l.94 2.06.94-2.06 2.06-.94-2.06-.94-.94-2.06-.94 2.06-2.06.94zm-11 1L8.5 8.5l.94-2.06 2.06-.94-2.06-.94L8.5 2.5l-.94 2.06-2.06.94zm10 10l.94 2.06.94-2.06 2.06-.94-2.06-.94-.94-2.06-.94 2.06-2.06.94z\"/><path d=\"M17.41 7.96l-1.37-1.37c-.4-.4-.92-.59-1.43-.59-.52 0-1.04.2-1.43.59L10.3 9.45l-7.72 7.72c-.78.78-.78 2.05 0 2.83L4 21.41c.39.39.9.59 1.41.59.51 0 1.02-.2 1.41-.59l7.78-7.78 2.81-2.81c.8-.78.8-2.07 0-2.86zM5.41 20L4 18.59l7.72-7.72 1.47 1.35L5.41 20z\"/>\n",
              "  </svg>\n",
              "      </button>\n",
              "      \n",
              "  <style>\n",
              "    .colab-df-container {\n",
              "      display:flex;\n",
              "      flex-wrap:wrap;\n",
              "      gap: 12px;\n",
              "    }\n",
              "\n",
              "    .colab-df-convert {\n",
              "      background-color: #E8F0FE;\n",
              "      border: none;\n",
              "      border-radius: 50%;\n",
              "      cursor: pointer;\n",
              "      display: none;\n",
              "      fill: #1967D2;\n",
              "      height: 32px;\n",
              "      padding: 0 0 0 0;\n",
              "      width: 32px;\n",
              "    }\n",
              "\n",
              "    .colab-df-convert:hover {\n",
              "      background-color: #E2EBFA;\n",
              "      box-shadow: 0px 1px 2px rgba(60, 64, 67, 0.3), 0px 1px 3px 1px rgba(60, 64, 67, 0.15);\n",
              "      fill: #174EA6;\n",
              "    }\n",
              "\n",
              "    [theme=dark] .colab-df-convert {\n",
              "      background-color: #3B4455;\n",
              "      fill: #D2E3FC;\n",
              "    }\n",
              "\n",
              "    [theme=dark] .colab-df-convert:hover {\n",
              "      background-color: #434B5C;\n",
              "      box-shadow: 0px 1px 3px 1px rgba(0, 0, 0, 0.15);\n",
              "      filter: drop-shadow(0px 1px 2px rgba(0, 0, 0, 0.3));\n",
              "      fill: #FFFFFF;\n",
              "    }\n",
              "  </style>\n",
              "\n",
              "      <script>\n",
              "        const buttonEl =\n",
              "          document.querySelector('#df-8bfde930-44ae-4eca-af68-ce426726e80d button.colab-df-convert');\n",
              "        buttonEl.style.display =\n",
              "          google.colab.kernel.accessAllowed ? 'block' : 'none';\n",
              "\n",
              "        async function convertToInteractive(key) {\n",
              "          const element = document.querySelector('#df-8bfde930-44ae-4eca-af68-ce426726e80d');\n",
              "          const dataTable =\n",
              "            await google.colab.kernel.invokeFunction('convertToInteractive',\n",
              "                                                     [key], {});\n",
              "          if (!dataTable) return;\n",
              "\n",
              "          const docLinkHtml = 'Like what you see? Visit the ' +\n",
              "            '<a target=\"_blank\" href=https://colab.research.google.com/notebooks/data_table.ipynb>data table notebook</a>'\n",
              "            + ' to learn more about interactive tables.';\n",
              "          element.innerHTML = '';\n",
              "          dataTable['output_type'] = 'display_data';\n",
              "          await google.colab.output.renderOutput(dataTable, element);\n",
              "          const docLink = document.createElement('div');\n",
              "          docLink.innerHTML = docLinkHtml;\n",
              "          element.appendChild(docLink);\n",
              "        }\n",
              "      </script>\n",
              "    </div>\n",
              "  </div>\n",
              "  "
            ]
          },
          "metadata": {},
          "execution_count": 6
        }
      ],
      "source": [
        "df"
      ]
    },
    {
      "cell_type": "code",
      "source": [
        "data = np.array(df.loc[:, ['longtitude', 'latitude']])"
      ],
      "metadata": {
        "id": "KtxmnQOc4pVh"
      },
      "execution_count": null,
      "outputs": []
    },
    {
      "cell_type": "code",
      "source": [
        "plt.figure(figsize = (5, 10))\n",
        "plt.scatter(data[:,0], data[:,1], alpha=0.5)\n",
        "plt.grid()"
      ],
      "metadata": {
        "colab": {
          "base_uri": "https://localhost:8080/",
          "height": 830
        },
        "id": "bG35BfMAdk4k",
        "outputId": "a76da8d4-fcd5-4293-d8bc-3d052b7f990a"
      },
      "execution_count": null,
      "outputs": [
        {
          "output_type": "display_data",
          "data": {
            "text/plain": [
              "<Figure size 500x1000 with 1 Axes>"
            ],
            "image/png": "[encoded data removed]"
          },
          "metadata": {}
        }
      ]
    },
    {
      "cell_type": "code",
      "execution_count": null,
      "metadata": {
        "id": "BlBd31fXoL8L"
      },
      "outputs": [],
      "source": [
        "scaler = MinMaxScaler()\n",
        "\n",
        "data = scaler.fit_transform(data)"
      ]
    },
    {
      "cell_type": "code",
      "source": [
        "iter = 5\n",
        "threshold = 1e-7\n",
        "method = 'euclid'\n",
        "k = 3"
      ],
      "metadata": {
        "id": "_ghs018wdNHT"
      },
      "execution_count": null,
      "outputs": []
    },
    {
      "cell_type": "code",
      "source": [
        "# Tạo môi trường Spark\n",
        "conf = SparkConf().setAppName(\"K-means\").setMaster(\"local[*]\")\n",
        "sc = SparkContext.getOrCreate(conf)\n",
        "rdd = sc.parallelize(data)"
      ],
      "metadata": {
        "id": "IKT8MX6hdRfC"
      },
      "execution_count": null,
      "outputs": []
    },
    {
      "cell_type": "code",
      "source": [
        "# Hàm tính khoảng cách\n",
        "def distance(a, b, method):\n",
        "    if(method == 'euclid'):\n",
        "      return np.sqrt(np.sum((a - b)**2, axis=1))\n",
        "    elif(method == 'manhattan'):\n",
        "      return np.sum(np.abs(a - b), axis=1)\n",
        "    elif(method == 'cosine'):\n",
        "      return np.sum(np.dot(a, b)/(np.linalg.norm(a)*np.linalg.norm(b)), axis=1)"
      ],
      "metadata": {
        "id": "ImasZsKsdOKW"
      },
      "execution_count": null,
      "outputs": []
    },
    {
      "cell_type": "code",
      "source": [
        "# Chọn random k điểm dữ liệu từ tập dữ liệu\n",
        "centroids = np.array(rdd.takeSample(False, k))"
      ],
      "metadata": {
        "id": "c20Wi__ldZtq"
      },
      "execution_count": null,
      "outputs": []
    },
    {
      "cell_type": "code",
      "source": [
        "# Hàm áp dụng cho lambda RDD trả về khoảng cách nhỏ nhất từ một điểm đến các tâm cụm\n",
        "def centroids_to_all(x, centroids):\n",
        "  dt_list = []\n",
        "  for i in centroids:\n",
        "    print(i)\n",
        "    dt_list.append(distance(np.array([x]), np.array([i]), 'euclid')) \n",
        "  return np.min(dt_list)"
      ],
      "metadata": {
        "id": "lXnX5zyXoI1q"
      },
      "execution_count": null,
      "outputs": []
    },
    {
      "cell_type": "code",
      "source": [
        "# Hàm hiết lập tâm cụm ban đầu nhờ K-means++\n",
        "def initialize(rdd, k):  \n",
        "  centroids = np.array(rdd.takeSample(False, 1))\n",
        "\n",
        "  for i in range(k - 1):\n",
        "    idx = np.argmax(rdd.map(lambda x: centroids_to_all(x, centroids)).collect())\n",
        "    centroids = np.vstack((centroids, rdd.collect()[idx]))\n",
        "\n",
        "  return centroids\n"
      ],
      "metadata": {
        "id": "H1T2KCgcmkXo"
      },
      "execution_count": null,
      "outputs": []
    },
    {
      "cell_type": "code",
      "source": [
        "# Hàm áp dụng cho lambda RDD trả về [tâm cụm, khoảng cách] của một điểm đến tâm cụm gần nhất\n",
        "def function(x, centroids, method):\n",
        "    dt = distance(x, centroids, method)\n",
        "    idx = np.argmin(dt)\n",
        "    return [idx, dt[idx]]\n",
        "\n",
        "# Hàm phân cụm không gian giữ liệu\n",
        "def assignment_point(rdd, centroids, method):\n",
        "    return rdd.map(lambda x: [function(x, centroids, method), x])\n",
        "\n",
        "# Phân cụm tập dữ liệu\n",
        "clustered = assignment_point(rdd, centroids, method)\n",
        "# Tổng các khoảng cách của mỗi đến đến cụm gần nhất tương ứng\n",
        "total_err = np.sum(np.array(clustered.map(lambda x: x[0][1]).collect()))"
      ],
      "metadata": {
        "id": "LD8WV5ZJdgLw"
      },
      "execution_count": null,
      "outputs": []
    },
    {
      "cell_type": "code",
      "source": [
        "pre_total_err = total_err\n",
        "\n",
        "for i in range(iter):\n",
        "     print(f\"`iter: {i}`\")\n",
        "     # Tính lại tâm cụm\n",
        "     centroids=np.array(clustered.map(lambda x: (x[0][0], x[1])).groupByKey().mapValues(list).map(lambda x: (np.mean(x[1], axis=0))).collect())\n",
        "\n",
        "     # Phân cụm lại tập giữ liệu\n",
        "     clustered = assignment_point(rdd, centroids, method)\n",
        "     total_err = np.sum(clustered.map(lambda x: x[0][1]).collect())\n",
        "\n",
        "     # Kiểm tra điều kiện dừng\n",
        "     if(pre_total_err - total_err < threshold or i == iter - 1):\n",
        "       clustered = clustered.map(lambda x: (x[0][0], x[1])).collect()\n",
        "       sc.stop()\n",
        "       print(f\"[err: {total_err}]\")\n",
        "       break\n",
        "     pre_total_err = total_err\n",
        "     print(f\"[err: {total_err}]\")"
      ],
      "metadata": {
        "colab": {
          "base_uri": "https://localhost:8080/"
        },
        "id": "pdzfHAiQeAqn",
        "outputId": "56cf82d6-4318-4a51-8db0-424041cdd292"
      },
      "execution_count": null,
      "outputs": [
        {
          "output_type": "stream",
          "name": "stdout",
          "text": [
            "`iter: 0`\n",
            "[err: 472833.7473657358]\n",
            "`iter: 1`\n",
            "[err: 472833.7473657358]\n"
          ]
        }
      ]
    },
    {
      "cell_type": "code",
      "source": [
        "def kmeans(data, k = 3, method = 'euclid', iter = 100, threshold = 1e-7, mode = 'k-means++'):\n",
        "  # Tạo môi trường Spark\n",
        "  conf = SparkConf().setAppName(\"K-means\").setMaster(\"local[*]\")\n",
        "  sc = SparkContext.getOrCreate(conf)\n",
        "  rdd = sc.parallelize(data)\n",
        "\n",
        "  # Chiến thuật chọn tâm cụm ban đầu\n",
        "  if(mode == 'k-means++'):\n",
        "    centroids = initialize(rdd, k)\n",
        "  else:\n",
        "    centroids = np.array(rdd.takeSample(False, k))\n",
        "\n",
        "  # Phân cụm tập dữ liệu\n",
        "  clustered = assignment_point(rdd, centroids, method)\n",
        "  # Tổng các khoảng cách của mỗi đến đến cụm gần nhất tương ứng\n",
        "  total_err = np.sum(np.array(clustered.map(lambda x: x[0][1]).collect()))\n",
        "  pre_total_err = total_err\n",
        "\n",
        "  for i in range(iter):\n",
        "      print(f\"`iter: {i}`\")\n",
        "      # Tính lại tâm cụm\n",
        "      centroids=np.array(clustered.map(lambda x: (x[0][0], x[1])).groupByKey().mapValues(list).map(lambda x: (np.mean(x[1], axis=0))).collect())\n",
        "\n",
        "      # Phân cụm lại tập dữ liệu\n",
        "      clustered = assignment_point(rdd, centroids, method)\n",
        "      total_err = np.sum(clustered.map(lambda x: x[0][1]).collect())\n",
        "\n",
        "      # Kiểm tra điều kiện dừng\n",
        "      if(pre_total_err - total_err < threshold or i == iter - 1):\n",
        "        clustered = clustered.map(lambda x: (x[0][0], x[1])).collect()\n",
        "        sc.stop()\n",
        "        print(f\"[err: {total_err}]\")\n",
        "        break\n",
        "      pre_total_err = total_err\n",
        "      print(f\"[err: {total_err}]\")\n",
        "    \n",
        "  return clustered, centroids, total_err"
      ],
      "metadata": {
        "id": "TgHU5t1beljH"
      },
      "execution_count": null,
      "outputs": []
    },
    {
      "cell_type": "code",
      "source": [
        "cl, ct, err = kmeans(data, 3, iter = 10)"
      ],
      "metadata": {
        "colab": {
          "base_uri": "https://localhost:8080/"
        },
        "id": "X4JouAzDmHz9",
        "outputId": "ded950eb-caef-41a4-b0fc-844f000ed9f9"
      },
      "execution_count": null,
      "outputs": [
        {
          "output_type": "stream",
          "name": "stdout",
          "text": [
            "`iter: 0`\n",
            "[err: 122246.22278601445]\n",
            "`iter: 1`\n",
            "[err: 122141.86805775859]\n",
            "`iter: 2`\n",
            "[err: 122141.86805775859]\n"
          ]
        }
      ]
    },
    {
      "cell_type": "code",
      "source": [
        "cl = np.array(cl)"
      ],
      "metadata": {
        "colab": {
          "base_uri": "https://localhost:8080/"
        },
        "id": "KpsgP5MrxZAT",
        "outputId": "fffc9b40-c674-467f-862e-75bbdf0253fe"
      },
      "execution_count": null,
      "outputs": [
        {
          "output_type": "stream",
          "name": "stderr",
          "text": [
            "<ipython-input-26-d0bdff2a4d44>:1: VisibleDeprecationWarning: Creating an ndarray from ragged nested sequences (which is a list-or-tuple of lists-or-tuples-or ndarrays with different lengths or shapes) is deprecated. If you meant to do this, you must specify 'dtype=object' when creating the ndarray.\n",
            "  cl = np.array(cl)\n"
          ]
        }
      ]
    },
    {
      "cell_type": "code",
      "source": [
        "plt.scatter(np.vstack(cl[:,1])[:, 0], np.vstack(cl[:,1])[:, 1], alpha=0.5, c=cl[:, 0])\n",
        "plt.scatter(ct[:, 0], ct[:, 1], marker='s')\n",
        "plt.grid()"
      ],
      "metadata": {
        "colab": {
          "base_uri": "https://localhost:8080/",
          "height": 430
        },
        "id": "NB5N0C_HxXJl",
        "outputId": "77302752-c8b1-4df7-d1fb-0d9b5fe5076f"
      },
      "execution_count": null,
      "outputs": [
        {
          "output_type": "display_data",
          "data": {
            "text/plain": [
              "<Figure size 640x480 with 1 Axes>"
            ],
            "image/png": "[encoded data removed]"
          },
          "metadata": {}
        }
      ]
    },
    {
      "cell_type": "code",
      "source": [
        "def elbow(data, cluster_range, iter = 20, method = 'euclid', mode='k-means++'):\n",
        "  # Tạo môi trường Spark\n",
        "  conf = SparkConf().setAppName(\"K-means\").setMaster(\"local[*]\")\n",
        "  sc = SparkContext.getOrCreate(conf)\n",
        "  rdd = sc.parallelize(data)\n",
        "  # Mảng lưu tổng khoảng cách các lần thử\n",
        "  err_summary = []\n",
        "\n",
        "  # Chiến thuật chọn tâm cụm ban đầu\n",
        "  for i in range(cluster_range):\n",
        "    print(f\"`{i+1} cluster`\")\n",
        "    if(mode == 'k-means++'):\n",
        "      centroids = initialize(rdd, i+1)\n",
        "    else:\n",
        "      centroids = np.array(rdd.takeSample(False, i+1))\n",
        "\n",
        "    # Phân cụm tập dữ liệu\n",
        "    clustered = assignment_point(rdd, centroids, method)\n",
        "    # Tổng các khoảng cách của mỗi đến đến cụm gần nhất tương ứng\n",
        "    total_err = np.sum(np.array(clustered.map(lambda x: x[0][1]).collect()))\n",
        "    pre_total_err = total_err\n",
        "\n",
        "    for k in range(iter):\n",
        "      # Tính lại tâm cụm\n",
        "      centroids = np.array(clustered.map(lambda x: (x[0][0], x[1])).groupByKey().mapValues(list).map(lambda x: (np.mean(x[1], axis=0))).collect())\n",
        "      # Phân cụm lại tập dữ liệu\n",
        "      clustered = assignment_point(rdd, centroids, method)\n",
        "      total_err = np.sum(clustered.map(lambda x: x[0][1]).collect())\n",
        "    err_summary.append(total_err)\n",
        "    print(f\"[err: {total_err}]\")\n",
        "  del(centroids)\n",
        "  sc.stop()\n",
        "\n",
        "  # Vẽ biểu đồ đánh giá\n",
        "  plt.scatter(np.arange(1, cluster_range + 1, 1), err_summary)\n",
        "  plt.plot(np.arange(1, cluster_range + 1, 1), err_summary)\n",
        "  plt.grid()\n",
        "  plt.show()"
      ],
      "metadata": {
        "id": "n5gbBPPOgEkK"
      },
      "execution_count": null,
      "outputs": []
    },
    {
      "cell_type": "code",
      "execution_count": null,
      "metadata": {
        "id": "mAuL-GNd_37c"
      },
      "outputs": [],
      "source": [
        "from pyspark.conf import SparkConf\n",
        "from pyspark.context import SparkContext\n",
        "import numpy as np\n",
        "import matplotlib.pyplot as plt\n",
        "\n",
        "class kmeans():\n",
        "  # Hàm khởi tạo\n",
        "  def __init__(self, method = \"euclid\", iter = 100, threshold = 1e-7, mode = 'k-means++'):\n",
        "    if method in ['euclid',  'manhattan', 'cosine']:\n",
        "      self.method = method\n",
        "    else:\n",
        "      raise ValueError(\"Method should be 'euclid', 'manhattan', 'cosine'.\")\n",
        "\n",
        "    if isinstance(iter, int) and iter > 0:\n",
        "      self.iter = iter\n",
        "    else:\n",
        "      raise ValueError(\"Iter should be an interger great than 0.\")\n",
        "\n",
        "    if isinstance(threshold, str):\n",
        "      raise ValueError(\"Threshold should be a float.\")\n",
        "    else:\n",
        "      self.threshold = threshold\n",
        "\n",
        "    if mode in ['k-means++','k-means']:\n",
        "      self.mode = mode\n",
        "    else:\n",
        "      raise ValueError(\"Two mode 'k-means' and 'k-means++'.\")\n",
        "    pass\n",
        "  \n",
        "  # Hàm thiết lập phương pháp tính khoảng cách\n",
        "  def set_method(self, method):\n",
        "    if method in ['euclid',  'manhattan', 'cosine']:\n",
        "      self.method = method\n",
        "    else:\n",
        "      raise ValueError(\"Method should be 'euclid', 'manhattan', 'cosine'.\")\n",
        "\n",
        "  # Hàm thiết lập số lần lặp tối đa\n",
        "  def max_iter(self, iter):\n",
        "    if isinstance(iter, int) and iter > 0:\n",
        "      self.iter = iter\n",
        "    else:\n",
        "      raise ValueError(\"Iter should be an interger great than 0.\")\n",
        "\n",
        "  # Hàm thiết lập ngưỡng điều kiện dừng\n",
        "  def set_threshold(self, threshold):\n",
        "    if isinstance(threshold, str):\n",
        "      raise ValueError(\"Threshold should be a float.\")\n",
        "    else:\n",
        "      self.threshold = threshold\n",
        "\n",
        "  # Hàm thiết lập chiến thuật chọn tâm cụm ban đầu\n",
        "  def set_mode(self, mode):\n",
        "    if mode in ['k-means++','k-means']:\n",
        "      self.mode = mode\n",
        "    else:\n",
        "      raise ValueError(\"Two mode 'k-means' and 'k-means++'.\")\n",
        "\n",
        "  # Hàm xác định phương pháp chuẩn hóa\n",
        "  def scalered(self, method):\n",
        "    if method == 'minmax':\n",
        "      return MinMaxScaler()\n",
        "    else:        \n",
        "      return StandardScaler()\n",
        "\n",
        "  # Hàm khôi phục dữ liệu đã chuẩn hóa\n",
        "  def inverse_transform(self):\n",
        "    conf = SparkConf().setAppName(\"K-means\").setMaster(\"local[*]\")\n",
        "    sc = SparkContext.getOrCreate(conf)\n",
        "    self.clustered = sc.parallelize(self.clustered).map(lambda x: [x[0], self.scaler.inverse_transform(np.array([x[1]]))]).collect()\n",
        "    self.centroids = self.scaler.inverse_transform(self.centroids)\n",
        "    sc.stop()\n",
        "  \n",
        "  # Hàm tính khoảng cách\n",
        "  def distance(self, a, b):\n",
        "    if(self.method == 'euclid'):\n",
        "      print(np.argmin(np.sqrt(np.sum((a - b)**2, axis=1))))\n",
        "      return np.sqrt(np.sum((a - b)**2, axis=1))\n",
        "    elif(self.method == 'manhattan'):\n",
        "      return np.sum(np.abs(a - b), axis=1)\n",
        "    else:\n",
        "      return np.sum(np.dot(a, b) / (np.linalg.norm(a) * np.linalg.norm(b)), axis=1)\n",
        "  \n",
        "  # Hàm áp dụng cho lambda RDD trả về [tâm cụm, khoảng cách] của một điểm đến tâm cụm gần nhất\n",
        "  def function(self, x):\n",
        "    dt = self.distance(x, self.centroids)\n",
        "    return [np.argmin(dt), np.min(dt)]\n",
        "\n",
        "  # Hàm phân cụm không gian dữ liệu\n",
        "  def assignment_point(self, rdd):\n",
        "    return rdd.map(lambda x: [self.function(x), x])\n",
        "\n",
        "  # Hàm áp dụng cho lambda RDD trả về khoảng cách nhỏ nhất từ một diểm đến các tâm cụm\n",
        "  def centroids_to_all(self, x):\n",
        "    dt_list = []\n",
        "    for i in self.centroids:\n",
        "      dt_list.append(self.distance(np.array([x]), np.array([i]))) \n",
        "    return np.min(dt_list)\n",
        "\n",
        "  # Hàm hiết lập tâm cụm ban đầu nhờ K-means++\n",
        "  def initialize(self, rdd):\n",
        "    self.centroids = np.array(rdd.takeSample(False, 1))\n",
        "\n",
        "    for i in range(self.cluster_num - 1):\n",
        "      idx = np.argmax(rdd.map(lambda x: self.centroids_to_all(x)).collect())\n",
        "      self.centroids = np.vstack((self.centroids, rdd.collect()[idx]))\n",
        "  \n",
        "  # Hàm tối ưu hóa mô hình\n",
        "  def fit(self, data, k, scale = False):\n",
        "    # Chọn phương pháp chuẩn hóa dữ liệu\n",
        "    if scale:\n",
        "      method = input('Scale method: ')\n",
        "      if method in ['minmax', 'std']:\n",
        "        self.scaler = self.scalered(method)\n",
        "        data = self.scaler.fit_transform(data)\n",
        "      else:\n",
        "        raise ValueError(\"Two mode 'minmax' and 'std'.\")\n",
        "\n",
        "    self.cluster_num = k\n",
        "    self.clusters = np.arange(k)\n",
        "\n",
        "    # Tạo môi trường Spark\n",
        "    conf = SparkConf().setAppName(\"K-means\").setMaster(\"local[*]\")\n",
        "    sc = SparkContext.getOrCreate(conf)\n",
        "    rdd = sc.parallelize(data)\n",
        "\n",
        "    # Chiến thuật chọn tâm cụm ban đầu\n",
        "    if(self.mode == 'k-means++'):\n",
        "      self.initialize(rdd)\n",
        "    else:\n",
        "      self.centroids = np.array(rdd.takeSample(False, self.cluster_num))\n",
        "\n",
        "    # Phân cụm tập dữ liệu\n",
        "    clustered = self.assignment_point(rdd)\n",
        "    total_err = np.sum(np.array(clustered.map(lambda x: x[0][1]).collect()))\n",
        "    self.total_err = total_err\n",
        "\n",
        "    for i in range(self.iter):\n",
        "      print(f\"`iter: {i}`\")\n",
        "      # Tính lại tâm cụm\n",
        "      self.centroids = np.array(clustered.map(lambda x: (x[0][0], x[1])).groupByKey().mapValues(list).map(lambda x: (np.mean(x[1], axis=0))).collect())\n",
        "      # Phân cụm lại tập dữ liệu\n",
        "      clustered = self.assignment_point(rdd)\n",
        "      total_err = np.sum(clustered.map(lambda x: x[0][1]).collect())\n",
        "\n",
        "      # Kiểm tra điều kiện dừng\n",
        "      if(self.total_err - total_err < self.threshold or i == self.iter - 1):\n",
        "        self.total_err = total_err\n",
        "        self.clustered = clustered.map(lambda x: (x[0][0], x[1])).collect()\n",
        "        sc.stop()\n",
        "        print(f\"[err: {total_err}]\")\n",
        "        break\n",
        "      self.total_err = total_err\n",
        "      print(f\"[err: {total_err}]\")\n",
        "\n",
        "  # Hàm dự đoán điểm dữ liệu mới\n",
        "  def predict(self, data, scale = False):\n",
        "    if scale:\n",
        "      data = self.scaler.fit_transform(data)\n",
        "\n",
        "    conf = SparkConf().setAppName(\"K-means\").setMaster(\"local[*]\")\n",
        "    sc = SparkContext.getOrCreate(conf)\n",
        "    result = sc.parallelize(data).map(lambda x: self.function(x)).map(lambda x: [self.clusters[x[0]], x[1]]).collect()\n",
        "    sc.stop()\n",
        "    return result\n",
        "\n",
        "  # Hàm thay đổi nhãn dữ liệu\n",
        "  def transform(self, label):\n",
        "    if(len(label) != self.cluster_num):\n",
        "      raise ValueError(f\"Model has {self.cluster_num} clusters!\")\n",
        "    conf = SparkConf().setAppName(\"K-means\").setMaster(\"local[*]\")\n",
        "    sc = SparkContext.getOrCreate(conf)\n",
        "\n",
        "    self.clusters = label\n",
        "    self.clustered = sc.parallelize(self.clustered).map(lambda x: [self.clusters[x[0]], x[1]]).collect()\n",
        "    sc.stop()\n",
        "  \n",
        "  # Hàm đánh giá elbow\n",
        "  def elbow(self, data, cluster_range, iter = 20, scale = False):\n",
        "    # Chọn phương pháp chuẩn hóa dữ liệu\n",
        "    if scale:\n",
        "      method = input('Scale method: ')\n",
        "    if method in ['minmax', 'std']:\n",
        "      self.scaler = self.scalered(method)\n",
        "      data = self.scaler.fit_transform(data)\n",
        "    else:\n",
        "      raise ValueError(\"Two mode 'minmax' and 'std'.\")\n",
        "\n",
        "    # Tạo môi trường Spark\n",
        "    conf = SparkConf().setAppName(\"K-means\").setMaster(\"local[*]\")\n",
        "    sc = SparkContext.getOrCreate(conf)\n",
        "    rdd = sc.parallelize(data)\n",
        "    # Mảng lưu tổng khoảng cách các lần thử\n",
        "    err_summary = []\n",
        "    \n",
        "    for i in range(cluster_range):\n",
        "      print(f\"`{i+1} cluster`\")\n",
        "\n",
        "      # Chiến thuật chọn tâm cụm ban đầu\n",
        "      self.cluster_num = i + 1\n",
        "      if(self.mode == 'k-means++'):\n",
        "        self.initialize(rdd)\n",
        "      else:\n",
        "        self.centroids = np.array(rdd.takeSample(False, self.cluster_num))\n",
        "\n",
        "      # Phân cụm tập dữ liệu\n",
        "      clustered = self.assignment_point(rdd)\n",
        "      total_err = np.sum(np.array(clustered.map(lambda x: x[0][1]).collect()))\n",
        "      pre_total_err = total_err\n",
        "\n",
        "      for k in range(iter):\n",
        "        # Tính lại tâm cụm\n",
        "        self.centroids = np.array(clustered.map(lambda x: (x[0][0], x[1])).groupByKey().mapValues(list).map(lambda x: (np.mean(x[1], axis=0))).collect())\n",
        "        # Phân cụm lại dữ liệu\n",
        "        clustered = self.assignment_point(rdd)\n",
        "        total_err = np.sum(clustered.map(lambda x: x[0][1]).collect())\n",
        "        if total_err - pre_total_err < self.threshold:\n",
        "          break\n",
        "        pre_total_err = total_err\n",
        "\n",
        "      err_summary.append(total_err)\n",
        "      print(f\"[err: {total_err}]\")\n",
        "    del(self.centroids)\n",
        "    del(self.cluster_num)\n",
        "    sc.stop()\n",
        "\n",
        "    # Vẽ biểu đồ đánh giá\n",
        "    plt.scatter(np.arange(1, cluster_range + 1, 1), err_summary)\n",
        "    plt.plot(np.arange(1, cluster_range + 1, 1), err_summary)\n",
        "    plt.grid()\n",
        "    plt.show()"
      ]
    },
    {
      "cell_type": "code",
      "source": [
        "model = kmeans()\n",
        "model.elbow(data,10 ,scale = True)"
      ],
      "metadata": {
        "colab": {
          "base_uri": "https://localhost:8080/",
          "height": 795
        },
        "id": "Vi4vHy6t0qEX",
        "outputId": "83817505-4524-44ee-82f1-69bf39ba277a"
      },
      "execution_count": null,
      "outputs": [
        {
          "output_type": "stream",
          "name": "stdout",
          "text": [
            "Scale method: minmax\n",
            "`1 cluster`\n",
            "[err: 37725.094927404716]\n",
            "`2 cluster`\n",
            "[err: 18356.194603320087]\n",
            "`3 cluster`\n",
            "[err: 12569.553156649738]\n",
            "`4 cluster`\n",
            "[err: 11527.331344108141]\n",
            "`5 cluster`\n",
            "[err: 10404.679036805659]\n",
            "`6 cluster`\n",
            "[err: 10237.648644886283]\n",
            "`7 cluster`\n",
            "[err: 8384.734334484318]\n",
            "`8 cluster`\n",
            "[err: 8000.715763761484]\n",
            "`9 cluster`\n",
            "[err: 7239.447278164498]\n",
            "`10 cluster`\n",
            "[err: 6872.0962594397]\n"
          ]
        },
        {
          "output_type": "display_data",
          "data": {
            "text/plain": [
              "<Figure size 640x480 with 1 Axes>"
            ],
            "image/png": "[encoded data removed]"
          },
          "metadata": {}
        }
      ]
    },
    {
      "cell_type": "code",
      "source": [
        "import time"
      ],
      "metadata": {
        "id": "6Ex6bQkBQXYF"
      },
      "execution_count": null,
      "outputs": []
    },
    {
      "cell_type": "code",
      "source": [
        "model = kmeans()\n",
        "start = time.time()\n",
        "model.fit(data, 3, scale = True)\n",
        "print('time', time.time() - start)"
      ],
      "metadata": {
        "colab": {
          "base_uri": "https://localhost:8080/"
        },
        "id": "VrcXA47Gq_pM",
        "outputId": "edf7659d-0789-45ec-cacd-1092a86a3385"
      },
      "execution_count": null,
      "outputs": [
        {
          "output_type": "stream",
          "name": "stdout",
          "text": [
            "Scale method: minmax\n",
            "in:  32.52189803123474\n",
            "`iter: 0`\n",
            "[err: 12722.350658074702]\n",
            "`iter: 1`\n",
            "[err: 12603.805941721579]\n",
            "`iter: 2`\n",
            "[err: 12595.781052309801]\n",
            "`iter: 3`\n",
            "[err: 12595.781052309801]\n",
            "time 129.51582074165344\n"
          ]
        }
      ]
    },
    {
      "cell_type": "code",
      "source": [
        "model.inverse_transform()"
      ],
      "metadata": {
        "id": "SaVzYy9ckOHH"
      },
      "execution_count": null,
      "outputs": []
    },
    {
      "cell_type": "code",
      "source": [
        "model1 = kmeans()\n",
        "start = time.time()\n",
        "model1.fit(data, 5, True)\n",
        "print('time', time.time() - start)"
      ],
      "metadata": {
        "id": "yjtvDltMWz48",
        "colab": {
          "base_uri": "https://localhost:8080/"
        },
        "outputId": "3056ccd1-38fd-4da0-809a-a865bee24932"
      },
      "execution_count": null,
      "outputs": [
        {
          "output_type": "stream",
          "name": "stdout",
          "text": [
            "Scale method: minmax\n",
            "`iter: 0`\n",
            "[err: 10838.90468436085]\n",
            "`iter: 1`\n",
            "[err: 10360.191250890011]\n",
            "`iter: 2`\n",
            "[err: 10282.803713501127]\n",
            "`iter: 3`\n",
            "[err: 10263.075063110336]\n",
            "`iter: 4`\n",
            "[err: 10254.378567584408]\n",
            "`iter: 5`\n",
            "[err: 10259.902502954017]\n",
            "time 249.4744725227356\n"
          ]
        }
      ]
    },
    {
      "cell_type": "code",
      "source": [
        "model1.inverse_transform()"
      ],
      "metadata": {
        "id": "07uqmUAIoXoI"
      },
      "execution_count": null,
      "outputs": []
    },
    {
      "cell_type": "code",
      "source": [
        "model2 = kmeans()\n",
        "start = time.time()\n",
        "model2.fit(data, 7, True)\n",
        "print('time', time.time() - start)"
      ],
      "metadata": {
        "colab": {
          "base_uri": "https://localhost:8080/"
        },
        "id": "P66sMp_sHW3P",
        "outputId": "163ddfd2-458d-4306-e61b-de93f3704f47"
      },
      "execution_count": null,
      "outputs": [
        {
          "output_type": "stream",
          "name": "stdout",
          "text": [
            "Scale method: minmax\n",
            "`iter: 0`\n",
            "[err: 8634.349952576733]\n",
            "`iter: 1`\n",
            "[err: 8044.835997151542]\n",
            "`iter: 2`\n",
            "[err: 7894.00623236777]\n",
            "`iter: 3`\n",
            "[err: 7860.833307593473]\n",
            "`iter: 4`\n",
            "[err: 7870.946888555423]\n",
            "time 348.05191016197205\n"
          ]
        }
      ]
    },
    {
      "cell_type": "code",
      "source": [
        "model2.inverse_transform()"
      ],
      "metadata": {
        "id": "v5qfHCtmHl1b"
      },
      "execution_count": null,
      "outputs": []
    },
    {
      "cell_type": "code",
      "execution_count": null,
      "metadata": {
        "colab": {
          "base_uri": "https://localhost:8080/"
        },
        "id": "YpVqpKTZQV1s",
        "outputId": "6b49f17c-6740-4b2b-831b-7ca06028c65b"
      },
      "outputs": [
        {
          "output_type": "stream",
          "name": "stderr",
          "text": [
            "<ipython-input-15-8c7519591795>:1: VisibleDeprecationWarning: Creating an ndarray from ragged nested sequences (which is a list-or-tuple of lists-or-tuples-or ndarrays with different lengths or shapes) is deprecated. If you meant to do this, you must specify 'dtype=object' when creating the ndarray.\n",
            "  y1 = np.array(model.clustered)\n",
            "<ipython-input-15-8c7519591795>:3: VisibleDeprecationWarning: Creating an ndarray from ragged nested sequences (which is a list-or-tuple of lists-or-tuples-or ndarrays with different lengths or shapes) is deprecated. If you meant to do this, you must specify 'dtype=object' when creating the ndarray.\n",
            "  y2 = np.array(model1.clustered)\n",
            "<ipython-input-15-8c7519591795>:5: VisibleDeprecationWarning: Creating an ndarray from ragged nested sequences (which is a list-or-tuple of lists-or-tuples-or ndarrays with different lengths or shapes) is deprecated. If you meant to do this, you must specify 'dtype=object' when creating the ndarray.\n",
            "  y3 = np.array(model2.clustered)\n"
          ]
        }
      ],
      "source": [
        "y1 = np.array(model.clustered)\n",
        "ct1 = np.array(model.centroids)\n",
        "y2 = np.array(model1.clustered)\n",
        "ct2 = np.array(model1.centroids)\n",
        "y3 = np.array(model2.clustered)\n",
        "ct3 = np.array(model2.centroids)"
      ]
    },
    {
      "cell_type": "code",
      "execution_count": null,
      "metadata": {
        "colab": {
          "base_uri": "https://localhost:8080/",
          "height": 830
        },
        "id": "wsn2sp_xVMsM",
        "outputId": "0a9c3809-7b37-4cc2-fc0e-878cd89a2d50"
      },
      "outputs": [
        {
          "output_type": "display_data",
          "data": {
            "text/plain": [
              "<Figure size 500x1000 with 1 Axes>"
            ],
            "image/png": "[encoded data removed]"
          },
          "metadata": {}
        }
      ],
      "source": [
        "import matplotlib.pyplot as plt\n",
        "\n",
        "plt.figure(figsize=(5,10))\n",
        "plt.scatter(np.vstack(y1[:, 1])[:, 0], np.vstack(y1[:, 1])[:, 1], c = y1[:, 0], alpha = 0.5)\n",
        "plt.scatter(ct1[:, 0], ct1[:, 1], marker='s', s=100)\n",
        "plt.grid()"
      ]
    },
    {
      "cell_type": "code",
      "execution_count": null,
      "metadata": {
        "id": "h_WEDdIIDzrv",
        "colab": {
          "base_uri": "https://localhost:8080/",
          "height": 830
        },
        "outputId": "d38a30f3-77f0-4f4b-8848-849a2ae3e7c5"
      },
      "outputs": [
        {
          "output_type": "display_data",
          "data": {
            "text/plain": [
              "<Figure size 500x1000 with 1 Axes>"
            ],
            "image/png": "[encoded data removed]"
          },
          "metadata": {}
        }
      ],
      "source": [
        "plt.figure(figsize=(5,10))\n",
        "plt.scatter(np.vstack(y2[:, 1])[:, 0], np.vstack(y2[:, 1])[:, 1], c = y2[:, 0], alpha = 0.5)\n",
        "plt.scatter(ct2[:, 0], ct2[:, 1], marker='s', s=100)\n",
        "plt.grid()"
      ]
    },
    {
      "cell_type": "code",
      "source": [
        "plt.figure(figsize=(5,10))\n",
        "plt.scatter(np.vstack(y3[:, 1])[:, 0], np.vstack(y3[:, 1])[:, 1], c = y3[:, 0], alpha = 0.5)\n",
        "plt.scatter(ct3[:, 0], ct3[:, 1], marker='s', s=100)\n",
        "plt.grid()"
      ],
      "metadata": {
        "colab": {
          "base_uri": "https://localhost:8080/",
          "height": 830
        },
        "id": "NzvZdMWaHxaU",
        "outputId": "ae478597-f917-484a-aa96-f78341c67bcb"
      },
      "execution_count": null,
      "outputs": [
        {
          "output_type": "display_data",
          "data": {
            "text/plain": [
              "<Figure size 500x1000 with 1 Axes>"
            ],
            "image/png": "[encoded data removed]"
          },
          "metadata": {}
        }
      ]
    },
    {
      "cell_type": "code",
      "source": [
        "def locating(model):\n",
        "  plt.figure(figsize = (5, 10))\n",
        "  data = np.array(model.clustered)\n",
        "  plt.scatter(np.vstack(data[:, 1])[:, 0], np.vstack(data[:, 1])[:, 1], c = LabelEncoder().fit_transform(data[:, 0]), alpha = 0.5)\n",
        "  \n",
        "  conf = SparkConf().setAppName(\"K-means\").setMaster(\"local[*]\")\n",
        "  sc = SparkContext.getOrCreate(conf)\n",
        "  clustered = sc.parallelize(data).groupByKey().mapValues(list).map(lambda x: [x[0], np.vstack(x[1])]).map(lambda x: np.array([np.quantile(x[1][:, 0], 0.25), np.quantile(x[1][:, 0], 0.5), np.quantile(x[1][:, 0], 0.75), np.quantile(x[1][:, 1], 0.25), np.quantile(x[1][:, 1], 0.5), np.quantile(x[1][:, 1], 0.75)])).collect()\n",
        "  sc.stop()\n",
        "\n",
        "  for i in clustered:\n",
        "    x = [i[0], i[0], i[2], i[2], i[0]]\n",
        "    y = [i[3], i[5], i[5], i[3], i[3]]\n",
        "\n",
        "    O = [(i[0] + i[2]) / 2, (i[3] + i[5]) / 2]\n",
        "\n",
        "    plt.fill(x, y, alpha = 0.3)\n",
        "    plt.scatter(i[1], i[4], s = 100, c='r')\n",
        "    plt.plot(x, y)\n",
        "    print(f'Square [[({i[3]}) , ({i[0]})],[({i[5]}) , ({i[0]})],[({i[5]}) , ({i[2]})],[({i[3]}) , ({i[2]})]], dot [({i[4]}) , ({i[1]})]')\n",
        "\n",
        "  plt.grid()\n",
        "  plt.show()"
      ],
      "metadata": {
        "id": "xKhM5R041mk6"
      },
      "execution_count": null,
      "outputs": []
    },
    {
      "cell_type": "code",
      "source": [
        "locating(model)"
      ],
      "metadata": {
        "colab": {
          "base_uri": "https://localhost:8080/",
          "height": 937
        },
        "id": "iX1pcwBGnywo",
        "outputId": "6e6cca79-5fbd-47a3-8914-031843ae1f24"
      },
      "execution_count": null,
      "outputs": [
        {
          "output_type": "stream",
          "name": "stderr",
          "text": [
            "<ipython-input-22-f43cd6d4da78>:3: VisibleDeprecationWarning: Creating an ndarray from ragged nested sequences (which is a list-or-tuple of lists-or-tuples-or ndarrays with different lengths or shapes) is deprecated. If you meant to do this, you must specify 'dtype=object' when creating the ndarray.\n",
            "  data = np.array(model.clustered)\n"
          ]
        },
        {
          "output_type": "stream",
          "name": "stdout",
          "text": [
            "Square [[(20.4388225) , (105.3306814)],[(21.6071636) , (105.3306814)],[(21.6071636) , (106.2992912)],[(20.4388225) , (106.2992912)]], dot [(21.0471807) , (105.7704551)]\n",
            "Square [[(9.9789961) , (105.4185406)],[(10.7540279) , (105.4185406)],[(10.7540279) , (106.62819010000001)],[(9.9789961) , (106.62819010000001)]], dot [(10.4009358) , (106.22868)]\n",
            "Square [[(12.2570417) , (107.79915450000001)],[(15.563882499999998) , (107.79915450000001)],[(15.563882499999998) , (108.91456750000002)],[(12.2570417) , (108.91456750000002)]], dot [(13.9645426) , (108.2080973)]\n"
          ]
        },
        {
          "output_type": "display_data",
          "data": {
            "text/plain": [
              "<Figure size 500x1000 with 1 Axes>"
            ],
            "image/png": "[encoded data removed]"
          },
          "metadata": {}
        }
      ]
    },
    {
      "cell_type": "code",
      "source": [
        "locating(model1)"
      ],
      "metadata": {
        "id": "BVgtFYNQ0ti5",
        "colab": {
          "base_uri": "https://localhost:8080/",
          "height": 972
        },
        "outputId": "692819c1-a18a-44cb-d997-7c1f1b1d75ac"
      },
      "execution_count": null,
      "outputs": [
        {
          "output_type": "stream",
          "name": "stderr",
          "text": [
            "<ipython-input-22-f43cd6d4da78>:3: VisibleDeprecationWarning: Creating an ndarray from ragged nested sequences (which is a list-or-tuple of lists-or-tuples-or ndarrays with different lengths or shapes) is deprecated. If you meant to do this, you must specify 'dtype=object' when creating the ndarray.\n",
            "  data = np.array(model.clustered)\n"
          ]
        },
        {
          "output_type": "stream",
          "name": "stdout",
          "text": [
            "Square [[(20.3192475) , (105.6257432)],[(21.3873563) , (105.6257432)],[(21.3873563) , (106.3581527)],[(20.3192475) , (106.3581527)]], dot [(20.9924634) , (105.8804085)]\n",
            "Square [[(9.9789961) , (105.4185406)],[(10.7480929) , (105.4185406)],[(10.7480929) , (106.62819010000001)],[(9.9789961) , (106.62819010000001)]], dot [(10.381909) , (106.1816196)]\n",
            "Square [[(21.2648137) , (103.8437852)],[(22.4177717) , (103.8437852)],[(22.4177717) , (104.7695962)],[(21.2648137) , (104.7695962)]], dot [(22.0832638) , (104.2890194)]\n",
            "Square [[(15.1860945) , (107.56235009999999)],[(16.491213) , (107.56235009999999)],[(16.491213) , (108.2614775)],[(15.1860945) , (108.2614775)]], dot [(15.927263200000002) , (108.0005933)]\n",
            "Square [[(11.8334154) , (107.85246300000001)],[(13.7399629) , (107.85246300000001)],[(13.7399629) , (109.04532)],[(11.8334154) , (109.04532)]], dot [(12.5049537) , (108.4750846)]\n"
          ]
        },
        {
          "output_type": "display_data",
          "data": {
            "text/plain": [
              "<Figure size 500x1000 with 1 Axes>"
            ],
            "image/png": "[encoded data removed]"
          },
          "metadata": {}
        }
      ]
    },
    {
      "cell_type": "code",
      "source": [
        "locating(model2)"
      ],
      "metadata": {
        "id": "QHSKIxyOM05p",
        "colab": {
          "base_uri": "https://localhost:8080/",
          "height": 1000
        },
        "outputId": "34377714-7677-4f37-a782-60498569e2bb"
      },
      "execution_count": null,
      "outputs": [
        {
          "output_type": "stream",
          "name": "stderr",
          "text": [
            "<ipython-input-22-f43cd6d4da78>:3: VisibleDeprecationWarning: Creating an ndarray from ragged nested sequences (which is a list-or-tuple of lists-or-tuples-or ndarrays with different lengths or shapes) is deprecated. If you meant to do this, you must specify 'dtype=object' when creating the ndarray.\n",
            "  data = np.array(model.clustered)\n"
          ]
        },
        {
          "output_type": "stream",
          "name": "stdout",
          "text": [
            "Square [[(20.7526658) , (106.3287199)],[(21.5659824) , (106.3287199)],[(21.5659824) , (106.76917120000002)],[(20.7526658) , (106.76917120000002)]], dot [(21.081585) , (106.52736510000001)]\n",
            "Square [[(11.8334154) , (107.85246300000001)],[(13.7399629) , (107.85246300000001)],[(13.7399629) , (109.04532)],[(11.8334154) , (109.04532)]], dot [(12.5049537) , (108.4750846)]\n",
            "Square [[(9.9789961) , (105.4185406)],[(10.7480929) , (105.4185406)],[(10.7480929) , (106.62819010000001)],[(9.9789961) , (106.62819010000001)]], dot [(10.381909) , (106.1816196)]\n",
            "Square [[(21.2648137) , (103.6927195)],[(22.3750231) , (103.6927195)],[(22.3750231) , (104.4551361)],[(21.2648137) , (104.4551361)]], dot [(21.958688) , (104.1487055)]\n",
            "Square [[(15.1860945) , (107.6392892)],[(16.4498) , (107.6392892)],[(16.4498) , (108.2614775)],[(15.1860945) , (108.2614775)]], dot [(15.927263200000002) , (108.11421999999999)]\n",
            "Square [[(20.955835) , (105.348246)],[(21.6071636) , (105.348246)],[(21.6071636) , (105.8480203)],[(20.955835) , (105.8480203)]], dot [(21.1753431) , (105.6603149)]\n",
            "Square [[(18.6316742) , (105.4683193)],[(20.0844095) , (105.4683193)],[(20.0844095) , (105.8736936)],[(18.6316742) , (105.8736936)]], dot [(19.1414862) , (105.6515167)]\n"
          ]
        },
        {
          "output_type": "display_data",
          "data": {
            "text/plain": [
              "<Figure size 500x1000 with 1 Axes>"
            ],
            "image/png": "[encoded data removed]"
          },
          "metadata": {}
        }
      ]
    },
    {
      "cell_type": "code",
      "source": [],
      "metadata": {
        "id": "OVPRKiSOtaCN"
      },
      "execution_count": null,
      "outputs": []
    }
  ],
  "metadata": {
    "colab": {
      "provenance": [],
      "gpuType": "T4"
    },
    "kernelspec": {
      "display_name": "Python 3",
      "name": "python3"
    },
    "language_info": {
      "name": "python"
    }
  },
  "nbformat": 4,
  "nbformat_minor": 0
}